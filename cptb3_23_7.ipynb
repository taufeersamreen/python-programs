{
 "cells": [
  {
   "cell_type": "code",
   "execution_count": 1,
   "id": "10858899-2c9e-4331-8218-131d2678a56b",
   "metadata": {},
   "outputs": [
    {
     "name": "stdout",
     "output_type": "stream",
     "text": [
      "even: [32, 54]\n",
      "odd: [21, 43, 65]\n"
     ]
    }
   ],
   "source": [
    "#mutable type attributes\n",
    "class number:\n",
    "    e=[]\n",
    "    o=[]\n",
    "    def __init__(self,num):\n",
    "        self.num=num\n",
    "        if num%2==0:\n",
    "            number.e.append(num)\n",
    "        else:\n",
    "            number.o.append(num)\n",
    "n1=number(21)\n",
    "n2=number(32)\n",
    "n3=number(43)\n",
    "n4=number(54)\n",
    "n5=number(65)\n",
    "print(\"even:\",number.e)\n",
    "print(\"odd:\",number.o)"
   ]
  },
  {
   "cell_type": "code",
   "execution_count": 3,
   "id": "6484fe22-2882-4b7f-b209-d08e29271b2b",
   "metadata": {},
   "outputs": [
    {
     "name": "stdin",
     "output_type": "stream",
     "text": [
      "Enter numbers separated by space:  67 54 44 45\n"
     ]
    },
    {
     "name": "stdout",
     "output_type": "stream",
     "text": [
      "even: [54, 44]\n",
      "odd: [67, 45]\n"
     ]
    }
   ],
   "source": [
    "class number:\n",
    "    e=[]\n",
    "    o=[]\n",
    "    def __init__(self,num):\n",
    "        self.num=num\n",
    "        if num%2==0:\n",
    "            number.e.append(num)\n",
    "        else:\n",
    "            number.o.append(num)\n",
    "nums = list(map(int, input(\"Enter numbers separated by space: \").split()))\n",
    "for n in nums:\n",
    "    number(n)\n",
    "print(\"even:\",number.e)\n",
    "print(\"odd:\",number.o)"
   ]
  },
  {
   "cell_type": "code",
   "execution_count": 5,
   "id": "be314a3a-f745-4315-bd9c-856df1d7ee98",
   "metadata": {},
   "outputs": [
    {
     "name": "stdin",
     "output_type": "stream",
     "text": [
      "enter numbers: 55 45 44 67\n"
     ]
    },
    {
     "name": "stdout",
     "output_type": "stream",
     "text": [
      "even: [44]\n",
      "odd: [55, 45, 67]\n"
     ]
    }
   ],
   "source": [
    "class number:\n",
    "    e=[]\n",
    "    o=[]\n",
    "    def __init__(self,num):\n",
    "        self.num=num\n",
    "        if num%2==0:\n",
    "            number.e.append(num)\n",
    "        else:\n",
    "            number.o.append(num)\n",
    "nums=input(\"enter numbers:\").split(\" \")\n",
    "for n in nums:\n",
    "    number(int(n))\n",
    "print(\"even:\",number.e)\n",
    "print(\"odd:\",number.o)"
   ]
  },
  {
   "cell_type": "code",
   "execution_count": 7,
   "id": "bd8a1922-e796-4d07-809f-25dc07e820db",
   "metadata": {},
   "outputs": [
    {
     "name": "stdin",
     "output_type": "stream",
     "text": [
      "enter value: 2\n"
     ]
    },
    {
     "name": "stdout",
     "output_type": "stream",
     "text": [
      "given value: 2\n",
      "given value: 8\n"
     ]
    }
   ],
   "source": [
    "def op(x):\n",
    "    return x**3\n",
    "class abc():\n",
    "    def __init__(self,val):\n",
    "        self.val=val\n",
    "    def display(self):\n",
    "        print(\"given value:\",self.val)\n",
    "    def modify(self):\n",
    "        self.val=op(self.val)\n",
    "n=int(input(\"enter value:\"))\n",
    "o=abc(n)\n",
    "o.display()\n",
    "o.modify()\n",
    "o.display()"
   ]
  },
  {
   "cell_type": "code",
   "execution_count": 9,
   "id": "34bbe999-6a0a-4d8c-901e-a5352b3541b6",
   "metadata": {},
   "outputs": [
    {
     "name": "stdout",
     "output_type": "stream",
     "text": [
      "True\n"
     ]
    }
   ],
   "source": [
    "def is_prime(num):\n",
    "    if num <= 1:\n",
    "        return False\n",
    "    for i in range(2, int(num**0.5) + 1):\n",
    "        if num % i == 0:\n",
    "            return False\n",
    "    return True\n",
    "\n",
    "class NumberCheck:\n",
    "    def __init__(self, number):\n",
    "        self.number = number\n",
    "\n",
    "    def check_prime(self):\n",
    "        return is_prime(self.number)\n",
    "\n",
    "n = NumberCheck(29)\n",
    "print(n.check_prime())  # Output: True\n"
   ]
  },
  {
   "cell_type": "code",
   "execution_count": 11,
   "id": "0ea565df-f3c6-4fc5-a2d1-624807eb1f23",
   "metadata": {},
   "outputs": [
    {
     "name": "stdout",
     "output_type": "stream",
     "text": [
      "[0, 1, 1, 2, 3, 5, 8]\n"
     ]
    }
   ],
   "source": [
    "def fibonacci(n):\n",
    "    a, b = 0, 1\n",
    "    result = []\n",
    "    for _ in range(n):\n",
    "        result.append(a)\n",
    "        a, b = b, a + b\n",
    "    return result\n",
    "\n",
    "class Fib:\n",
    "    def __init__(self, n):\n",
    "        self.n = n\n",
    "\n",
    "    def get_series(self):\n",
    "        return fibonacci(self.n)\n",
    "\n",
    "fib = Fib(7)\n",
    "print(fib.get_series())  # Output: [0, 1, 1, 2, 3, 5, 8]\n"
   ]
  },
  {
   "cell_type": "code",
   "execution_count": 13,
   "id": "c3d312d3-07d0-43d2-b7c1-30df7924e028",
   "metadata": {},
   "outputs": [
    {
     "name": "stdout",
     "output_type": "stream",
     "text": [
      "99\n"
     ]
    }
   ],
   "source": [
    "def find_max(nums):\n",
    "    if not nums:\n",
    "        return None\n",
    "    max_num = nums[0]\n",
    "    for num in nums:\n",
    "        if num > max_num:\n",
    "            max_num = num\n",
    "    return max_num\n",
    "\n",
    "class ListOps:\n",
    "    def __init__(self, nums):\n",
    "        self.nums = nums\n",
    "\n",
    "    def get_max(self):\n",
    "        return find_max(self.nums)\n",
    "\n",
    "lst = ListOps([10, 4, 67, 2, 99])\n",
    "print(lst.get_max())  # Output: 99"
   ]
  },
  {
   "cell_type": "code",
   "execution_count": 21,
   "id": "d0a896f8-4bf7-4ca7-9b64-fe762fb15468",
   "metadata": {},
   "outputs": [
    {
     "name": "stdin",
     "output_type": "stream",
     "text": [
      "enter a number: 7\n",
      "enter another number: 9.8\n"
     ]
    },
    {
     "name": "stdout",
     "output_type": "stream",
     "text": [
      "object.__dic__- {'v1': 7, 'v2': 9.8}\n",
      "object.__doc__- None\n",
      "class.__name__- abc\n",
      "object.__module__- __main__\n",
      "class.__base__- (<class 'object'>,)\n",
      "class.__base__- <class 'object'>\n"
     ]
    }
   ],
   "source": [
    "#built-in attribute\n",
    "class abc():\n",
    "    def __init__(self,v1,v2):\n",
    "        self.v1=v1\n",
    "        self.v2=v2\n",
    "    def display(self):\n",
    "        print(\"var1:\",self.v1)\n",
    "        print(\"var2:\",self.v2)\n",
    "n1=int(input(\"enter a number:\"))\n",
    "n2=float(input(\"enter another number:\"))\n",
    "o=abc(n1,n2)\n",
    "print(\"object.__dic__-\",o.__dict__)\n",
    "print(\"object.__doc__-\",o.__doc__)\n",
    "print(\"class.__name__-\",abc.__name__)\n",
    "print(\"object.__module__-\",o.__module__)\n",
    "print(\"class.__base__-\",abc.__bases__)\n",
    "print(\"class.__base__-\",abc.__base__)"
   ]
  },
  {
   "cell_type": "code",
   "execution_count": 27,
   "id": "e78081d0-38bc-41f6-b2aa-3b5483b66ce5",
   "metadata": {},
   "outputs": [
    {
     "name": "stdout",
     "output_type": "stream",
     "text": [
      "<class 'type'>\n",
      "1704\n",
      "48\n"
     ]
    }
   ],
   "source": [
    "import sys\n",
    "class A:\n",
    "    n=10\n",
    "o=A()\n",
    "print(type(A))\n",
    "print(sys.getsizeof(A))\n",
    "print(sys.getsizeof(o))"
   ]
  },
  {
   "cell_type": "code",
   "execution_count": 29,
   "id": "f781dcf1-886e-4611-8890-fb055d2b9d53",
   "metadata": {},
   "outputs": [
    {
     "name": "stdin",
     "output_type": "stream",
     "text": [
      "enter amt to deposit: 200\n",
      "enter pin 1234\n"
     ]
    }
   ],
   "source": [
    "# class atm:\n",
    "#     bal=5999\n",
    "#     pin=1234\n",
    "#     def __init__(self,amt,key):\n",
    "#         self.amt=amt\n",
    "#         self.key=key\n",
    "#     def pin_check(self):\n",
    "#         if key!=pin:\n",
    "#             print(\"wrong pin, Exiting\")\n",
    "#         if atm.bal>=2000:\n",
    "#             atm.bal-=2000\n",
    "#             print(atm.bal)\n",
    "#         else:\n",
    "#             print(\"not enough bal\")\n",
    "# amt=float(input(\"enter amt to deposit:\"))\n",
    "# pin=int(input(\"enter pin\"))\n",
    "# o=atm(amt,pin)"
   ]
  },
  {
   "cell_type": "code",
   "execution_count": 35,
   "id": "be9277d5-0f1d-45b9-b2d0-3b08f7161656",
   "metadata": {},
   "outputs": [
    {
     "name": "stdin",
     "output_type": "stream",
     "text": [
      "enter 4-digit pin: 1234\n",
      "enter amount to debit: 5689\n"
     ]
    },
    {
     "name": "stdout",
     "output_type": "stream",
     "text": [
      "insufficent funds!!.Transcation cancelled\n"
     ]
    }
   ],
   "source": [
    "'''create a class atm and check the pin with user pin 1234 ,define the constructor or function to witdraw 2000 balance amt from account1999\n",
    "if the amount is over then balance exit and check the pin for accessing the account'''\n",
    "class ATM:\n",
    "    def __init__(self):\n",
    "        self.balance=5000\n",
    "        self.pin='1234'\n",
    "    def process(self):\n",
    "        user_pin=input(\"enter 4-digit pin:\")\n",
    "        if user_pin==self.pin:\n",
    "            amount=int(input(\"enter amount to debit:\"))\n",
    "            if amount<=self.balance:\n",
    "                self.balance-=amount\n",
    "                print(f\"{amount} debited. Remaining balance rs.{self.balance}\")\n",
    "            else:\n",
    "                print(\"insufficent funds!!.Transcation cancelled\")\n",
    "        else:\n",
    "            print(\"Incorrect pin\")\n",
    "atm=ATM()\n",
    "atm.process()"
   ]
  },
  {
   "cell_type": "code",
   "execution_count": null,
   "id": "9a803551-9ba4-43d9-8251-df5d63f69beb",
   "metadata": {},
   "outputs": [],
   "source": []
  }
 ],
 "metadata": {
  "kernelspec": {
   "display_name": "Python 3 (ipykernel)",
   "language": "python",
   "name": "python3"
  },
  "language_info": {
   "codemirror_mode": {
    "name": "ipython",
    "version": 3
   },
   "file_extension": ".py",
   "mimetype": "text/x-python",
   "name": "python",
   "nbconvert_exporter": "python",
   "pygments_lexer": "ipython3",
   "version": "3.12.7"
  }
 },
 "nbformat": 4,
 "nbformat_minor": 5
}
